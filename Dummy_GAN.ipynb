{
  "nbformat": 4,
  "nbformat_minor": 0,
  "metadata": {
    "colab": {
      "provenance": [],
      "authorship_tag": "ABX9TyMNNXNQeyPUmbSee/AE3jW7",
      "include_colab_link": true
    },
    "kernelspec": {
      "name": "python3",
      "display_name": "Python 3"
    },
    "language_info": {
      "name": "python"
    },
    "accelerator": "GPU"
  },
  "cells": [
    {
      "cell_type": "markdown",
      "metadata": {
        "id": "view-in-github",
        "colab_type": "text"
      },
      "source": [
        "<a href=\"https://colab.research.google.com/github/basak-contu/BBM402-Project/blob/main/Dummy_GAN.ipynb\" target=\"_parent\"><img src=\"https://colab.research.google.com/assets/colab-badge.svg\" alt=\"Open In Colab\"/></a>"
      ]
    },
    {
      "cell_type": "code",
      "execution_count": null,
      "metadata": {
        "colab": {
          "base_uri": "https://localhost:8080/"
        },
        "id": "2NEUF3HEGtda",
        "outputId": "dd8f2464-47b4-4117-bedf-d56df5ab376a"
      },
      "outputs": [
        {
          "output_type": "stream",
          "name": "stdout",
          "text": [
            "Looking in indexes: https://pypi.org/simple, https://us-python.pkg.dev/colab-wheels/public/simple/\n",
            "Requirement already satisfied: torchvision in /usr/local/lib/python3.7/dist-packages (0.13.1+cu113)\n",
            "Requirement already satisfied: requests in /usr/local/lib/python3.7/dist-packages (from torchvision) (2.23.0)\n",
            "Requirement already satisfied: pillow!=8.3.*,>=5.3.0 in /usr/local/lib/python3.7/dist-packages (from torchvision) (7.1.2)\n",
            "Requirement already satisfied: numpy in /usr/local/lib/python3.7/dist-packages (from torchvision) (1.21.6)\n",
            "Requirement already satisfied: torch==1.12.1 in /usr/local/lib/python3.7/dist-packages (from torchvision) (1.12.1+cu113)\n",
            "Requirement already satisfied: typing-extensions in /usr/local/lib/python3.7/dist-packages (from torchvision) (4.1.1)\n",
            "Requirement already satisfied: chardet<4,>=3.0.2 in /usr/local/lib/python3.7/dist-packages (from requests->torchvision) (3.0.4)\n",
            "Requirement already satisfied: certifi>=2017.4.17 in /usr/local/lib/python3.7/dist-packages (from requests->torchvision) (2022.9.24)\n",
            "Requirement already satisfied: idna<3,>=2.5 in /usr/local/lib/python3.7/dist-packages (from requests->torchvision) (2.10)\n",
            "Requirement already satisfied: urllib3!=1.25.0,!=1.25.1,<1.26,>=1.21.1 in /usr/local/lib/python3.7/dist-packages (from requests->torchvision) (1.24.3)\n"
          ]
        }
      ],
      "source": [
        "!pip3 install torchvision"
      ]
    },
    {
      "cell_type": "code",
      "source": [
        "!pip install tensorboardX"
      ],
      "metadata": {
        "id": "rN2kW896LJQ_",
        "outputId": "b667eed7-b1d9-45a2-9b86-57b8d234d232",
        "colab": {
          "base_uri": "https://localhost:8080/"
        }
      },
      "execution_count": null,
      "outputs": [
        {
          "output_type": "stream",
          "name": "stdout",
          "text": [
            "Looking in indexes: https://pypi.org/simple, https://us-python.pkg.dev/colab-wheels/public/simple/\n",
            "Collecting tensorboardX\n",
            "  Downloading tensorboardX-2.5.1-py2.py3-none-any.whl (125 kB)\n",
            "\u001b[K     |████████████████████████████████| 125 kB 5.1 MB/s \n",
            "\u001b[?25hRequirement already satisfied: numpy in /usr/local/lib/python3.7/dist-packages (from tensorboardX) (1.21.6)\n",
            "Requirement already satisfied: protobuf<=3.20.1,>=3.8.0 in /usr/local/lib/python3.7/dist-packages (from tensorboardX) (3.17.3)\n",
            "Requirement already satisfied: six>=1.9 in /usr/local/lib/python3.7/dist-packages (from protobuf<=3.20.1,>=3.8.0->tensorboardX) (1.15.0)\n",
            "Installing collected packages: tensorboardX\n",
            "Successfully installed tensorboardX-2.5.1\n"
          ]
        }
      ]
    },
    {
      "cell_type": "code",
      "source": [
        "# Check that imports for the rest of the file work.\n",
        "import tensorflow.compat.v1 as tf\n",
        "!pip install tensorflow-gan\n",
        "import tensorflow_gan as tfgan\n",
        "import tensorflow_datasets as tfds\n",
        "import matplotlib.pyplot as plt\n",
        "import numpy as np\n",
        "# Allow matplotlib images to render immediately.\n",
        "%matplotlib inline\n",
        "tf.logging.set_verbosity(tf.logging.ERROR)  # Disable noisy outputs."
      ],
      "metadata": {
        "colab": {
          "base_uri": "https://localhost:8080/"
        },
        "id": "E4YjvYiZV1cQ",
        "outputId": "05e1c210-efe5-439c-a5ec-342129e657d3"
      },
      "execution_count": 1,
      "outputs": [
        {
          "output_type": "stream",
          "name": "stdout",
          "text": [
            "Looking in indexes: https://pypi.org/simple, https://us-python.pkg.dev/colab-wheels/public/simple/\n",
            "Collecting tensorflow-gan\n",
            "  Downloading tensorflow_gan-2.1.0-py2.py3-none-any.whl (367 kB)\n",
            "\u001b[K     |████████████████████████████████| 367 kB 7.9 MB/s \n",
            "\u001b[?25hRequirement already satisfied: tensorflow-hub>=0.2 in /usr/local/lib/python3.7/dist-packages (from tensorflow-gan) (0.12.0)\n",
            "Requirement already satisfied: tensorflow-probability>=0.7 in /usr/local/lib/python3.7/dist-packages (from tensorflow-gan) (0.16.0)\n",
            "Requirement already satisfied: numpy>=1.12.0 in /usr/local/lib/python3.7/dist-packages (from tensorflow-hub>=0.2->tensorflow-gan) (1.21.6)\n",
            "Requirement already satisfied: protobuf>=3.8.0 in /usr/local/lib/python3.7/dist-packages (from tensorflow-hub>=0.2->tensorflow-gan) (3.17.3)\n",
            "Requirement already satisfied: six>=1.9 in /usr/local/lib/python3.7/dist-packages (from protobuf>=3.8.0->tensorflow-hub>=0.2->tensorflow-gan) (1.15.0)\n",
            "Requirement already satisfied: decorator in /usr/local/lib/python3.7/dist-packages (from tensorflow-probability>=0.7->tensorflow-gan) (4.4.2)\n",
            "Requirement already satisfied: cloudpickle>=1.3 in /usr/local/lib/python3.7/dist-packages (from tensorflow-probability>=0.7->tensorflow-gan) (1.5.0)\n",
            "Requirement already satisfied: gast>=0.3.2 in /usr/local/lib/python3.7/dist-packages (from tensorflow-probability>=0.7->tensorflow-gan) (0.5.3)\n",
            "Requirement already satisfied: dm-tree in /usr/local/lib/python3.7/dist-packages (from tensorflow-probability>=0.7->tensorflow-gan) (0.1.7)\n",
            "Requirement already satisfied: absl-py in /usr/local/lib/python3.7/dist-packages (from tensorflow-probability>=0.7->tensorflow-gan) (1.2.0)\n",
            "Installing collected packages: tensorflow-gan\n",
            "Successfully installed tensorflow-gan-2.1.0\n"
          ]
        },
        {
          "output_type": "stream",
          "name": "stderr",
          "text": [
            "WARNING:tensorflow:From /usr/local/lib/python3.7/dist-packages/tensorflow_gan/python/estimator/tpu_gan_estimator.py:42: The name tf.estimator.tpu.TPUEstimator is deprecated. Please use tf.compat.v1.estimator.tpu.TPUEstimator instead.\n",
            "\n"
          ]
        }
      ]
    },
    {
      "cell_type": "code",
      "source": [
        "import numpy as np\n",
        "import random\n",
        "\n",
        "\n",
        "\n",
        "def generate_matrix(x, y, width, height):\n",
        "  data = np.zeros((5, 5))\n",
        "  data[x:x+width+1, y:y+height+1] = 1\n",
        "  data[x+1:x+width, y+1:y+height] = 0\n",
        "  print(data)\n",
        "  return data\n",
        "\n",
        "\n",
        "for x in range(0,3):\n",
        "  for y in range(0,3):\n",
        "    for w in range(2,5):\n",
        "      for h in range(2,5):\n",
        "        if w+x<5 and h+y<5:\n",
        "          generate_matrix(x, y, w, h)"
      ],
      "metadata": {
        "id": "ryRsRLTNgTHK",
        "outputId": "a237bc1a-4da1-4184-fd5f-3c9ff877ce28",
        "colab": {
          "base_uri": "https://localhost:8080/"
        }
      },
      "execution_count": 9,
      "outputs": [
        {
          "output_type": "stream",
          "name": "stdout",
          "text": [
            "[[1. 1. 1. 0. 0.]\n",
            " [1. 0. 1. 0. 0.]\n",
            " [1. 1. 1. 0. 0.]\n",
            " [0. 0. 0. 0. 0.]\n",
            " [0. 0. 0. 0. 0.]]\n",
            "[[1. 1. 1. 1. 0.]\n",
            " [1. 0. 0. 1. 0.]\n",
            " [1. 1. 1. 1. 0.]\n",
            " [0. 0. 0. 0. 0.]\n",
            " [0. 0. 0. 0. 0.]]\n",
            "[[1. 1. 1. 1. 1.]\n",
            " [1. 0. 0. 0. 1.]\n",
            " [1. 1. 1. 1. 1.]\n",
            " [0. 0. 0. 0. 0.]\n",
            " [0. 0. 0. 0. 0.]]\n",
            "[[1. 1. 1. 0. 0.]\n",
            " [1. 0. 1. 0. 0.]\n",
            " [1. 0. 1. 0. 0.]\n",
            " [1. 1. 1. 0. 0.]\n",
            " [0. 0. 0. 0. 0.]]\n",
            "[[1. 1. 1. 1. 0.]\n",
            " [1. 0. 0. 1. 0.]\n",
            " [1. 0. 0. 1. 0.]\n",
            " [1. 1. 1. 1. 0.]\n",
            " [0. 0. 0. 0. 0.]]\n",
            "[[1. 1. 1. 1. 1.]\n",
            " [1. 0. 0. 0. 1.]\n",
            " [1. 0. 0. 0. 1.]\n",
            " [1. 1. 1. 1. 1.]\n",
            " [0. 0. 0. 0. 0.]]\n",
            "[[1. 1. 1. 0. 0.]\n",
            " [1. 0. 1. 0. 0.]\n",
            " [1. 0. 1. 0. 0.]\n",
            " [1. 0. 1. 0. 0.]\n",
            " [1. 1. 1. 0. 0.]]\n",
            "[[1. 1. 1. 1. 0.]\n",
            " [1. 0. 0. 1. 0.]\n",
            " [1. 0. 0. 1. 0.]\n",
            " [1. 0. 0. 1. 0.]\n",
            " [1. 1. 1. 1. 0.]]\n",
            "[[1. 1. 1. 1. 1.]\n",
            " [1. 0. 0. 0. 1.]\n",
            " [1. 0. 0. 0. 1.]\n",
            " [1. 0. 0. 0. 1.]\n",
            " [1. 1. 1. 1. 1.]]\n",
            "[[0. 1. 1. 1. 0.]\n",
            " [0. 1. 0. 1. 0.]\n",
            " [0. 1. 1. 1. 0.]\n",
            " [0. 0. 0. 0. 0.]\n",
            " [0. 0. 0. 0. 0.]]\n",
            "[[0. 1. 1. 1. 1.]\n",
            " [0. 1. 0. 0. 1.]\n",
            " [0. 1. 1. 1. 1.]\n",
            " [0. 0. 0. 0. 0.]\n",
            " [0. 0. 0. 0. 0.]]\n",
            "[[0. 1. 1. 1. 0.]\n",
            " [0. 1. 0. 1. 0.]\n",
            " [0. 1. 0. 1. 0.]\n",
            " [0. 1. 1. 1. 0.]\n",
            " [0. 0. 0. 0. 0.]]\n",
            "[[0. 1. 1. 1. 1.]\n",
            " [0. 1. 0. 0. 1.]\n",
            " [0. 1. 0. 0. 1.]\n",
            " [0. 1. 1. 1. 1.]\n",
            " [0. 0. 0. 0. 0.]]\n",
            "[[0. 1. 1. 1. 0.]\n",
            " [0. 1. 0. 1. 0.]\n",
            " [0. 1. 0. 1. 0.]\n",
            " [0. 1. 0. 1. 0.]\n",
            " [0. 1. 1. 1. 0.]]\n",
            "[[0. 1. 1. 1. 1.]\n",
            " [0. 1. 0. 0. 1.]\n",
            " [0. 1. 0. 0. 1.]\n",
            " [0. 1. 0. 0. 1.]\n",
            " [0. 1. 1. 1. 1.]]\n",
            "[[0. 0. 1. 1. 1.]\n",
            " [0. 0. 1. 0. 1.]\n",
            " [0. 0. 1. 1. 1.]\n",
            " [0. 0. 0. 0. 0.]\n",
            " [0. 0. 0. 0. 0.]]\n",
            "[[0. 0. 1. 1. 1.]\n",
            " [0. 0. 1. 0. 1.]\n",
            " [0. 0. 1. 0. 1.]\n",
            " [0. 0. 1. 1. 1.]\n",
            " [0. 0. 0. 0. 0.]]\n",
            "[[0. 0. 1. 1. 1.]\n",
            " [0. 0. 1. 0. 1.]\n",
            " [0. 0. 1. 0. 1.]\n",
            " [0. 0. 1. 0. 1.]\n",
            " [0. 0. 1. 1. 1.]]\n",
            "[[0. 0. 0. 0. 0.]\n",
            " [1. 1. 1. 0. 0.]\n",
            " [1. 0. 1. 0. 0.]\n",
            " [1. 1. 1. 0. 0.]\n",
            " [0. 0. 0. 0. 0.]]\n",
            "[[0. 0. 0. 0. 0.]\n",
            " [1. 1. 1. 1. 0.]\n",
            " [1. 0. 0. 1. 0.]\n",
            " [1. 1. 1. 1. 0.]\n",
            " [0. 0. 0. 0. 0.]]\n",
            "[[0. 0. 0. 0. 0.]\n",
            " [1. 1. 1. 1. 1.]\n",
            " [1. 0. 0. 0. 1.]\n",
            " [1. 1. 1. 1. 1.]\n",
            " [0. 0. 0. 0. 0.]]\n",
            "[[0. 0. 0. 0. 0.]\n",
            " [1. 1. 1. 0. 0.]\n",
            " [1. 0. 1. 0. 0.]\n",
            " [1. 0. 1. 0. 0.]\n",
            " [1. 1. 1. 0. 0.]]\n",
            "[[0. 0. 0. 0. 0.]\n",
            " [1. 1. 1. 1. 0.]\n",
            " [1. 0. 0. 1. 0.]\n",
            " [1. 0. 0. 1. 0.]\n",
            " [1. 1. 1. 1. 0.]]\n",
            "[[0. 0. 0. 0. 0.]\n",
            " [1. 1. 1. 1. 1.]\n",
            " [1. 0. 0. 0. 1.]\n",
            " [1. 0. 0. 0. 1.]\n",
            " [1. 1. 1. 1. 1.]]\n",
            "[[0. 0. 0. 0. 0.]\n",
            " [0. 1. 1. 1. 0.]\n",
            " [0. 1. 0. 1. 0.]\n",
            " [0. 1. 1. 1. 0.]\n",
            " [0. 0. 0. 0. 0.]]\n",
            "[[0. 0. 0. 0. 0.]\n",
            " [0. 1. 1. 1. 1.]\n",
            " [0. 1. 0. 0. 1.]\n",
            " [0. 1. 1. 1. 1.]\n",
            " [0. 0. 0. 0. 0.]]\n",
            "[[0. 0. 0. 0. 0.]\n",
            " [0. 1. 1. 1. 0.]\n",
            " [0. 1. 0. 1. 0.]\n",
            " [0. 1. 0. 1. 0.]\n",
            " [0. 1. 1. 1. 0.]]\n",
            "[[0. 0. 0. 0. 0.]\n",
            " [0. 1. 1. 1. 1.]\n",
            " [0. 1. 0. 0. 1.]\n",
            " [0. 1. 0. 0. 1.]\n",
            " [0. 1. 1. 1. 1.]]\n",
            "[[0. 0. 0. 0. 0.]\n",
            " [0. 0. 1. 1. 1.]\n",
            " [0. 0. 1. 0. 1.]\n",
            " [0. 0. 1. 1. 1.]\n",
            " [0. 0. 0. 0. 0.]]\n",
            "[[0. 0. 0. 0. 0.]\n",
            " [0. 0. 1. 1. 1.]\n",
            " [0. 0. 1. 0. 1.]\n",
            " [0. 0. 1. 0. 1.]\n",
            " [0. 0. 1. 1. 1.]]\n",
            "[[0. 0. 0. 0. 0.]\n",
            " [0. 0. 0. 0. 0.]\n",
            " [1. 1. 1. 0. 0.]\n",
            " [1. 0. 1. 0. 0.]\n",
            " [1. 1. 1. 0. 0.]]\n",
            "[[0. 0. 0. 0. 0.]\n",
            " [0. 0. 0. 0. 0.]\n",
            " [1. 1. 1. 1. 0.]\n",
            " [1. 0. 0. 1. 0.]\n",
            " [1. 1. 1. 1. 0.]]\n",
            "[[0. 0. 0. 0. 0.]\n",
            " [0. 0. 0. 0. 0.]\n",
            " [1. 1. 1. 1. 1.]\n",
            " [1. 0. 0. 0. 1.]\n",
            " [1. 1. 1. 1. 1.]]\n",
            "[[0. 0. 0. 0. 0.]\n",
            " [0. 0. 0. 0. 0.]\n",
            " [0. 1. 1. 1. 0.]\n",
            " [0. 1. 0. 1. 0.]\n",
            " [0. 1. 1. 1. 0.]]\n",
            "[[0. 0. 0. 0. 0.]\n",
            " [0. 0. 0. 0. 0.]\n",
            " [0. 1. 1. 1. 1.]\n",
            " [0. 1. 0. 0. 1.]\n",
            " [0. 1. 1. 1. 1.]]\n",
            "[[0. 0. 0. 0. 0.]\n",
            " [0. 0. 0. 0. 0.]\n",
            " [0. 0. 1. 1. 1.]\n",
            " [0. 0. 1. 0. 1.]\n",
            " [0. 0. 1. 1. 1.]]\n"
          ]
        }
      ]
    }
  ]
}